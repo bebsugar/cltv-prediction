{
 "cells": [
  {
   "cell_type": "code",
   "execution_count": 888,
   "outputs": [],
   "source": [
    "import datetime as dt\n",
    "\n",
    "import pandas as pd\n",
    "import seaborn as sns\n",
    "from lifetimes import BetaGeoFitter\n",
    "from lifetimes import GammaGammaFitter\n",
    "\n",
    "pd.set_option('display.max_columns', None)\n",
    "pd.set_option('display.width', 500)\n",
    "pd.set_option('display.float_format', lambda x: '%.4f' % x)"
   ],
   "metadata": {
    "collapsed": false
   }
  },
  {
   "cell_type": "code",
   "execution_count": 889,
   "outputs": [],
   "source": [
    "colors = ['#003f5c','#7a5195', '#ef5675', '#fdb534']"
   ],
   "metadata": {
    "collapsed": false
   }
  },
  {
   "cell_type": "code",
   "execution_count": 890,
   "outputs": [],
   "source": [
    "df_ = pd.read_csv('flo_data_20k.csv')\n",
    "df = df_.copy()"
   ],
   "metadata": {
    "collapsed": false
   }
  },
  {
   "cell_type": "code",
   "execution_count": 891,
   "outputs": [
    {
     "data": {
      "text/plain": "                              master_id order_channel last_order_channel first_order_date last_order_date last_order_date_online last_order_date_offline  order_num_total_ever_online  order_num_total_ever_offline  customer_value_total_ever_offline  customer_value_total_ever_online       interested_in_categories_12\n0  cc294636-19f0-11eb-8d74-000d3a38a36f   Android App            Offline       2020-10-30      2021-02-26             2021-02-21              2021-02-26                       4.0000                        1.0000                           139.9900                          799.3800                           [KADIN]\n1  f431bd5a-ab7b-11e9-a2fc-000d3a38a36f   Android App             Mobile       2017-02-08      2021-02-16             2021-02-16              2020-01-10                      19.0000                        2.0000                           159.9700                         1853.5800  [ERKEK, COCUK, KADIN, AKTIFSPOR]\n2  69b69676-1a40-11ea-941b-000d3a38a36f   Android App        Android App       2019-11-27      2020-11-27             2020-11-27              2019-12-01                       3.0000                        2.0000                           189.9700                          395.3500                    [ERKEK, KADIN]\n3  1854e56c-491f-11eb-806e-000d3a38a36f   Android App        Android App       2021-01-06      2021-01-17             2021-01-17              2021-01-06                       1.0000                        1.0000                            39.9900                           81.9800               [AKTIFCOCUK, COCUK]\n4  d6ea1074-f1f5-11e9-9346-000d3a38a36f       Desktop            Desktop       2019-08-03      2021-03-07             2021-03-07              2019-08-03                       1.0000                        1.0000                            49.9900                          159.9900                       [AKTIFSPOR]\n5  e585280e-aae1-11e9-a2fc-000d3a38a36f       Desktop            Offline       2018-11-18      2021-03-13             2018-11-18              2021-03-13                       1.0000                        2.0000                           150.8700                           49.9900                           [KADIN]\n6  c445e4ee-6242-11ea-9d1a-000d3a38a36f   Android App        Android App       2020-03-04      2020-10-18             2020-10-18              2020-03-04                       3.0000                        1.0000                            59.9900                          315.9400                       [AKTIFSPOR]\n7  3f1b4dc8-8a7d-11ea-8ec0-000d3a38a36f        Mobile            Offline       2020-05-15      2020-08-12             2020-05-15              2020-08-12                       1.0000                        1.0000                            49.9900                          113.6400                           [COCUK]\n8  cfbda69e-5b4f-11ea-aca7-000d3a38a36f   Android App        Android App       2020-01-23      2021-03-07             2021-03-07              2020-01-25                       3.0000                        2.0000                           120.4800                          934.2100             [ERKEK, COCUK, KADIN]\n9  1143f032-440d-11ea-8b43-000d3a38a36f        Mobile             Mobile       2019-07-30      2020-10-04             2020-10-04              2019-07-30                       1.0000                        1.0000                            69.9800                           95.9800                [KADIN, AKTIFSPOR]",
      "text/html": "<div>\n<style scoped>\n    .dataframe tbody tr th:only-of-type {\n        vertical-align: middle;\n    }\n\n    .dataframe tbody tr th {\n        vertical-align: top;\n    }\n\n    .dataframe thead th {\n        text-align: right;\n    }\n</style>\n<table border=\"1\" class=\"dataframe\">\n  <thead>\n    <tr style=\"text-align: right;\">\n      <th></th>\n      <th>master_id</th>\n      <th>order_channel</th>\n      <th>last_order_channel</th>\n      <th>first_order_date</th>\n      <th>last_order_date</th>\n      <th>last_order_date_online</th>\n      <th>last_order_date_offline</th>\n      <th>order_num_total_ever_online</th>\n      <th>order_num_total_ever_offline</th>\n      <th>customer_value_total_ever_offline</th>\n      <th>customer_value_total_ever_online</th>\n      <th>interested_in_categories_12</th>\n    </tr>\n  </thead>\n  <tbody>\n    <tr>\n      <th>0</th>\n      <td>cc294636-19f0-11eb-8d74-000d3a38a36f</td>\n      <td>Android App</td>\n      <td>Offline</td>\n      <td>2020-10-30</td>\n      <td>2021-02-26</td>\n      <td>2021-02-21</td>\n      <td>2021-02-26</td>\n      <td>4.0000</td>\n      <td>1.0000</td>\n      <td>139.9900</td>\n      <td>799.3800</td>\n      <td>[KADIN]</td>\n    </tr>\n    <tr>\n      <th>1</th>\n      <td>f431bd5a-ab7b-11e9-a2fc-000d3a38a36f</td>\n      <td>Android App</td>\n      <td>Mobile</td>\n      <td>2017-02-08</td>\n      <td>2021-02-16</td>\n      <td>2021-02-16</td>\n      <td>2020-01-10</td>\n      <td>19.0000</td>\n      <td>2.0000</td>\n      <td>159.9700</td>\n      <td>1853.5800</td>\n      <td>[ERKEK, COCUK, KADIN, AKTIFSPOR]</td>\n    </tr>\n    <tr>\n      <th>2</th>\n      <td>69b69676-1a40-11ea-941b-000d3a38a36f</td>\n      <td>Android App</td>\n      <td>Android App</td>\n      <td>2019-11-27</td>\n      <td>2020-11-27</td>\n      <td>2020-11-27</td>\n      <td>2019-12-01</td>\n      <td>3.0000</td>\n      <td>2.0000</td>\n      <td>189.9700</td>\n      <td>395.3500</td>\n      <td>[ERKEK, KADIN]</td>\n    </tr>\n    <tr>\n      <th>3</th>\n      <td>1854e56c-491f-11eb-806e-000d3a38a36f</td>\n      <td>Android App</td>\n      <td>Android App</td>\n      <td>2021-01-06</td>\n      <td>2021-01-17</td>\n      <td>2021-01-17</td>\n      <td>2021-01-06</td>\n      <td>1.0000</td>\n      <td>1.0000</td>\n      <td>39.9900</td>\n      <td>81.9800</td>\n      <td>[AKTIFCOCUK, COCUK]</td>\n    </tr>\n    <tr>\n      <th>4</th>\n      <td>d6ea1074-f1f5-11e9-9346-000d3a38a36f</td>\n      <td>Desktop</td>\n      <td>Desktop</td>\n      <td>2019-08-03</td>\n      <td>2021-03-07</td>\n      <td>2021-03-07</td>\n      <td>2019-08-03</td>\n      <td>1.0000</td>\n      <td>1.0000</td>\n      <td>49.9900</td>\n      <td>159.9900</td>\n      <td>[AKTIFSPOR]</td>\n    </tr>\n    <tr>\n      <th>5</th>\n      <td>e585280e-aae1-11e9-a2fc-000d3a38a36f</td>\n      <td>Desktop</td>\n      <td>Offline</td>\n      <td>2018-11-18</td>\n      <td>2021-03-13</td>\n      <td>2018-11-18</td>\n      <td>2021-03-13</td>\n      <td>1.0000</td>\n      <td>2.0000</td>\n      <td>150.8700</td>\n      <td>49.9900</td>\n      <td>[KADIN]</td>\n    </tr>\n    <tr>\n      <th>6</th>\n      <td>c445e4ee-6242-11ea-9d1a-000d3a38a36f</td>\n      <td>Android App</td>\n      <td>Android App</td>\n      <td>2020-03-04</td>\n      <td>2020-10-18</td>\n      <td>2020-10-18</td>\n      <td>2020-03-04</td>\n      <td>3.0000</td>\n      <td>1.0000</td>\n      <td>59.9900</td>\n      <td>315.9400</td>\n      <td>[AKTIFSPOR]</td>\n    </tr>\n    <tr>\n      <th>7</th>\n      <td>3f1b4dc8-8a7d-11ea-8ec0-000d3a38a36f</td>\n      <td>Mobile</td>\n      <td>Offline</td>\n      <td>2020-05-15</td>\n      <td>2020-08-12</td>\n      <td>2020-05-15</td>\n      <td>2020-08-12</td>\n      <td>1.0000</td>\n      <td>1.0000</td>\n      <td>49.9900</td>\n      <td>113.6400</td>\n      <td>[COCUK]</td>\n    </tr>\n    <tr>\n      <th>8</th>\n      <td>cfbda69e-5b4f-11ea-aca7-000d3a38a36f</td>\n      <td>Android App</td>\n      <td>Android App</td>\n      <td>2020-01-23</td>\n      <td>2021-03-07</td>\n      <td>2021-03-07</td>\n      <td>2020-01-25</td>\n      <td>3.0000</td>\n      <td>2.0000</td>\n      <td>120.4800</td>\n      <td>934.2100</td>\n      <td>[ERKEK, COCUK, KADIN]</td>\n    </tr>\n    <tr>\n      <th>9</th>\n      <td>1143f032-440d-11ea-8b43-000d3a38a36f</td>\n      <td>Mobile</td>\n      <td>Mobile</td>\n      <td>2019-07-30</td>\n      <td>2020-10-04</td>\n      <td>2020-10-04</td>\n      <td>2019-07-30</td>\n      <td>1.0000</td>\n      <td>1.0000</td>\n      <td>69.9800</td>\n      <td>95.9800</td>\n      <td>[KADIN, AKTIFSPOR]</td>\n    </tr>\n  </tbody>\n</table>\n</div>"
     },
     "execution_count": 891,
     "metadata": {},
     "output_type": "execute_result"
    }
   ],
   "source": [
    "df.head(10)"
   ],
   "metadata": {
    "collapsed": false
   }
  },
  {
   "cell_type": "code",
   "execution_count": 892,
   "outputs": [
    {
     "data": {
      "text/plain": "(19945, 12)"
     },
     "execution_count": 892,
     "metadata": {},
     "output_type": "execute_result"
    }
   ],
   "source": [
    "df.shape"
   ],
   "metadata": {
    "collapsed": false
   }
  },
  {
   "cell_type": "code",
   "execution_count": 893,
   "outputs": [
    {
     "data": {
      "text/plain": "Index(['master_id', 'order_channel', 'last_order_channel', 'first_order_date', 'last_order_date', 'last_order_date_online', 'last_order_date_offline', 'order_num_total_ever_online', 'order_num_total_ever_offline', 'customer_value_total_ever_offline', 'customer_value_total_ever_online', 'interested_in_categories_12'], dtype='object')"
     },
     "execution_count": 893,
     "metadata": {},
     "output_type": "execute_result"
    }
   ],
   "source": [
    "df.columns"
   ],
   "metadata": {
    "collapsed": false
   }
  },
  {
   "cell_type": "code",
   "execution_count": 894,
   "outputs": [
    {
     "data": {
      "text/plain": "                                       count     mean      std     min      25%      50%      75%        max\norder_num_total_ever_online       19945.0000   3.1109   4.2256  1.0000   1.0000   2.0000   4.0000   200.0000\norder_num_total_ever_offline      19945.0000   1.9139   2.0629  1.0000   1.0000   1.0000   2.0000   109.0000\ncustomer_value_total_ever_offline 19945.0000 253.9226 301.5329 10.0000  99.9900 179.9800 319.9700 18119.1400\ncustomer_value_total_ever_online  19945.0000 497.3217 832.6019 12.9900 149.9800 286.4600 578.4400 45220.1300",
      "text/html": "<div>\n<style scoped>\n    .dataframe tbody tr th:only-of-type {\n        vertical-align: middle;\n    }\n\n    .dataframe tbody tr th {\n        vertical-align: top;\n    }\n\n    .dataframe thead th {\n        text-align: right;\n    }\n</style>\n<table border=\"1\" class=\"dataframe\">\n  <thead>\n    <tr style=\"text-align: right;\">\n      <th></th>\n      <th>count</th>\n      <th>mean</th>\n      <th>std</th>\n      <th>min</th>\n      <th>25%</th>\n      <th>50%</th>\n      <th>75%</th>\n      <th>max</th>\n    </tr>\n  </thead>\n  <tbody>\n    <tr>\n      <th>order_num_total_ever_online</th>\n      <td>19945.0000</td>\n      <td>3.1109</td>\n      <td>4.2256</td>\n      <td>1.0000</td>\n      <td>1.0000</td>\n      <td>2.0000</td>\n      <td>4.0000</td>\n      <td>200.0000</td>\n    </tr>\n    <tr>\n      <th>order_num_total_ever_offline</th>\n      <td>19945.0000</td>\n      <td>1.9139</td>\n      <td>2.0629</td>\n      <td>1.0000</td>\n      <td>1.0000</td>\n      <td>1.0000</td>\n      <td>2.0000</td>\n      <td>109.0000</td>\n    </tr>\n    <tr>\n      <th>customer_value_total_ever_offline</th>\n      <td>19945.0000</td>\n      <td>253.9226</td>\n      <td>301.5329</td>\n      <td>10.0000</td>\n      <td>99.9900</td>\n      <td>179.9800</td>\n      <td>319.9700</td>\n      <td>18119.1400</td>\n    </tr>\n    <tr>\n      <th>customer_value_total_ever_online</th>\n      <td>19945.0000</td>\n      <td>497.3217</td>\n      <td>832.6019</td>\n      <td>12.9900</td>\n      <td>149.9800</td>\n      <td>286.4600</td>\n      <td>578.4400</td>\n      <td>45220.1300</td>\n    </tr>\n  </tbody>\n</table>\n</div>"
     },
     "execution_count": 894,
     "metadata": {},
     "output_type": "execute_result"
    }
   ],
   "source": [
    "df.describe().T"
   ],
   "metadata": {
    "collapsed": false
   }
  },
  {
   "cell_type": "code",
   "execution_count": 895,
   "outputs": [
    {
     "data": {
      "text/plain": "master_id                            0\norder_channel                        0\nlast_order_channel                   0\nfirst_order_date                     0\nlast_order_date                      0\nlast_order_date_online               0\nlast_order_date_offline              0\norder_num_total_ever_online          0\norder_num_total_ever_offline         0\ncustomer_value_total_ever_offline    0\ncustomer_value_total_ever_online     0\ninterested_in_categories_12          0\ndtype: int64"
     },
     "execution_count": 895,
     "metadata": {},
     "output_type": "execute_result"
    }
   ],
   "source": [
    "df.isnull().sum()"
   ],
   "metadata": {
    "collapsed": false
   }
  },
  {
   "cell_type": "code",
   "execution_count": 896,
   "outputs": [
    {
     "data": {
      "text/plain": "master_id                             object\norder_channel                         object\nlast_order_channel                    object\nfirst_order_date                      object\nlast_order_date                       object\nlast_order_date_online                object\nlast_order_date_offline               object\norder_num_total_ever_online          float64\norder_num_total_ever_offline         float64\ncustomer_value_total_ever_offline    float64\ncustomer_value_total_ever_online     float64\ninterested_in_categories_12           object\ndtype: object"
     },
     "execution_count": 896,
     "metadata": {},
     "output_type": "execute_result"
    }
   ],
   "source": [
    "df.dtypes"
   ],
   "metadata": {
    "collapsed": false
   }
  },
  {
   "cell_type": "code",
   "execution_count": 897,
   "outputs": [],
   "source": [
    "def outlier_thresholds(dataframe, variable):\n",
    "    quartile1 = dataframe[variable].quantile(0.01)\n",
    "    quartile3 = dataframe[variable].quantile(0.99)\n",
    "    inter_quantile_range = quartile3 - quartile1\n",
    "    up_limit = quartile3 + 1.5 * inter_quantile_range\n",
    "    low_limit = quartile1 - 1.5 * inter_quantile_range\n",
    "    return low_limit, up_limit"
   ],
   "metadata": {
    "collapsed": false
   }
  },
  {
   "cell_type": "code",
   "execution_count": 898,
   "outputs": [],
   "source": [
    "def replace_with_thresholds(dataframe, variable):\n",
    "    low_limit, up_limit = outlier_thresholds(dataframe, variable)\n",
    "    dataframe.loc[(dataframe[variable] < low_limit), variable] = round(low_limit, 0)\n",
    "    dataframe.loc[(dataframe[variable] > up_limit), variable] = round(up_limit, 0)"
   ],
   "metadata": {
    "collapsed": false
   }
  },
  {
   "cell_type": "code",
   "execution_count": 899,
   "outputs": [],
   "source": [
    "replace_with_thresholds(df, 'order_num_total_ever_online')\n",
    "replace_with_thresholds(df, 'order_num_total_ever_offline')\n",
    "replace_with_thresholds(df, 'customer_value_total_ever_offline')\n",
    "replace_with_thresholds(df, 'customer_value_total_ever_online')"
   ],
   "metadata": {
    "collapsed": false
   }
  },
  {
   "cell_type": "code",
   "execution_count": 900,
   "outputs": [
    {
     "data": {
      "text/plain": "                                  master_id order_channel last_order_channel first_order_date last_order_date last_order_date_online last_order_date_offline  order_num_total_ever_online  order_num_total_ever_offline  customer_value_total_ever_offline  customer_value_total_ever_online interested_in_categories_12\n6109   bed3925a-f95f-11e9-b138-000d3a38a36f        Mobile            Offline       2019-10-28      2020-07-25             2020-04-27              2020-07-25                       1.0000                        4.0000                           448.4300                           90.9300  [AKTIFCOCUK, COCUK, KADIN]\n8120   52561362-bd38-11ea-aa61-000d3a38a36f        Mobile             Mobile       2020-07-03      2021-05-20             2021-05-20              2021-05-17                       1.0000                        3.0000                           938.8100                          578.5700   [ERKEK, KADIN, AKTIFSPOR]\n11132  8db16222-23cd-11ea-8523-000d3a38a36f       Ios App            Ios App       2019-09-07      2020-09-29             2020-09-29              2019-12-15                       1.0000                        3.0000                           229.9600                          212.1500                     [KADIN]\n11257  1719f0b6-b12c-11e9-9757-000d3a38a36f        Mobile            Offline       2019-01-14      2021-03-01             2020-01-20              2021-03-01                       4.0000                        1.0000                            70.8500                          260.6800                          []\n3975   c17b7744-23f7-11ea-8523-000d3a38a36f   Android App        Android App       2019-02-22      2021-04-14             2021-04-14              2019-02-22                       5.0000                        1.0000                            49.9900                          401.9500                     [ERKEK]",
      "text/html": "<div>\n<style scoped>\n    .dataframe tbody tr th:only-of-type {\n        vertical-align: middle;\n    }\n\n    .dataframe tbody tr th {\n        vertical-align: top;\n    }\n\n    .dataframe thead th {\n        text-align: right;\n    }\n</style>\n<table border=\"1\" class=\"dataframe\">\n  <thead>\n    <tr style=\"text-align: right;\">\n      <th></th>\n      <th>master_id</th>\n      <th>order_channel</th>\n      <th>last_order_channel</th>\n      <th>first_order_date</th>\n      <th>last_order_date</th>\n      <th>last_order_date_online</th>\n      <th>last_order_date_offline</th>\n      <th>order_num_total_ever_online</th>\n      <th>order_num_total_ever_offline</th>\n      <th>customer_value_total_ever_offline</th>\n      <th>customer_value_total_ever_online</th>\n      <th>interested_in_categories_12</th>\n    </tr>\n  </thead>\n  <tbody>\n    <tr>\n      <th>6109</th>\n      <td>bed3925a-f95f-11e9-b138-000d3a38a36f</td>\n      <td>Mobile</td>\n      <td>Offline</td>\n      <td>2019-10-28</td>\n      <td>2020-07-25</td>\n      <td>2020-04-27</td>\n      <td>2020-07-25</td>\n      <td>1.0000</td>\n      <td>4.0000</td>\n      <td>448.4300</td>\n      <td>90.9300</td>\n      <td>[AKTIFCOCUK, COCUK, KADIN]</td>\n    </tr>\n    <tr>\n      <th>8120</th>\n      <td>52561362-bd38-11ea-aa61-000d3a38a36f</td>\n      <td>Mobile</td>\n      <td>Mobile</td>\n      <td>2020-07-03</td>\n      <td>2021-05-20</td>\n      <td>2021-05-20</td>\n      <td>2021-05-17</td>\n      <td>1.0000</td>\n      <td>3.0000</td>\n      <td>938.8100</td>\n      <td>578.5700</td>\n      <td>[ERKEK, KADIN, AKTIFSPOR]</td>\n    </tr>\n    <tr>\n      <th>11132</th>\n      <td>8db16222-23cd-11ea-8523-000d3a38a36f</td>\n      <td>Ios App</td>\n      <td>Ios App</td>\n      <td>2019-09-07</td>\n      <td>2020-09-29</td>\n      <td>2020-09-29</td>\n      <td>2019-12-15</td>\n      <td>1.0000</td>\n      <td>3.0000</td>\n      <td>229.9600</td>\n      <td>212.1500</td>\n      <td>[KADIN]</td>\n    </tr>\n    <tr>\n      <th>11257</th>\n      <td>1719f0b6-b12c-11e9-9757-000d3a38a36f</td>\n      <td>Mobile</td>\n      <td>Offline</td>\n      <td>2019-01-14</td>\n      <td>2021-03-01</td>\n      <td>2020-01-20</td>\n      <td>2021-03-01</td>\n      <td>4.0000</td>\n      <td>1.0000</td>\n      <td>70.8500</td>\n      <td>260.6800</td>\n      <td>[]</td>\n    </tr>\n    <tr>\n      <th>3975</th>\n      <td>c17b7744-23f7-11ea-8523-000d3a38a36f</td>\n      <td>Android App</td>\n      <td>Android App</td>\n      <td>2019-02-22</td>\n      <td>2021-04-14</td>\n      <td>2021-04-14</td>\n      <td>2019-02-22</td>\n      <td>5.0000</td>\n      <td>1.0000</td>\n      <td>49.9900</td>\n      <td>401.9500</td>\n      <td>[ERKEK]</td>\n    </tr>\n  </tbody>\n</table>\n</div>"
     },
     "execution_count": 900,
     "metadata": {},
     "output_type": "execute_result"
    }
   ],
   "source": [
    "df.sample(5)"
   ],
   "metadata": {
    "collapsed": false
   }
  },
  {
   "cell_type": "code",
   "execution_count": 901,
   "outputs": [
    {
     "data": {
      "text/plain": "                                       count     mean      std     min      25%      50%      75%       max\norder_num_total_ever_online       19945.0000   3.0920   3.8095  1.0000   1.0000   2.0000   4.0000   48.0000\norder_num_total_ever_offline      19945.0000   1.8862   1.4347  1.0000   1.0000   1.0000   2.0000   16.0000\ncustomer_value_total_ever_offline 19945.0000 251.9213 251.0237 10.0000  99.9900 179.9800 319.9700 3020.0000\ncustomer_value_total_ever_online  19945.0000 489.7057 632.6098 12.9900 149.9800 286.4600 578.4400 7800.0000",
      "text/html": "<div>\n<style scoped>\n    .dataframe tbody tr th:only-of-type {\n        vertical-align: middle;\n    }\n\n    .dataframe tbody tr th {\n        vertical-align: top;\n    }\n\n    .dataframe thead th {\n        text-align: right;\n    }\n</style>\n<table border=\"1\" class=\"dataframe\">\n  <thead>\n    <tr style=\"text-align: right;\">\n      <th></th>\n      <th>count</th>\n      <th>mean</th>\n      <th>std</th>\n      <th>min</th>\n      <th>25%</th>\n      <th>50%</th>\n      <th>75%</th>\n      <th>max</th>\n    </tr>\n  </thead>\n  <tbody>\n    <tr>\n      <th>order_num_total_ever_online</th>\n      <td>19945.0000</td>\n      <td>3.0920</td>\n      <td>3.8095</td>\n      <td>1.0000</td>\n      <td>1.0000</td>\n      <td>2.0000</td>\n      <td>4.0000</td>\n      <td>48.0000</td>\n    </tr>\n    <tr>\n      <th>order_num_total_ever_offline</th>\n      <td>19945.0000</td>\n      <td>1.8862</td>\n      <td>1.4347</td>\n      <td>1.0000</td>\n      <td>1.0000</td>\n      <td>1.0000</td>\n      <td>2.0000</td>\n      <td>16.0000</td>\n    </tr>\n    <tr>\n      <th>customer_value_total_ever_offline</th>\n      <td>19945.0000</td>\n      <td>251.9213</td>\n      <td>251.0237</td>\n      <td>10.0000</td>\n      <td>99.9900</td>\n      <td>179.9800</td>\n      <td>319.9700</td>\n      <td>3020.0000</td>\n    </tr>\n    <tr>\n      <th>customer_value_total_ever_online</th>\n      <td>19945.0000</td>\n      <td>489.7057</td>\n      <td>632.6098</td>\n      <td>12.9900</td>\n      <td>149.9800</td>\n      <td>286.4600</td>\n      <td>578.4400</td>\n      <td>7800.0000</td>\n    </tr>\n  </tbody>\n</table>\n</div>"
     },
     "execution_count": 901,
     "metadata": {},
     "output_type": "execute_result"
    }
   ],
   "source": [
    "df.describe().T"
   ],
   "metadata": {
    "collapsed": false
   }
  },
  {
   "cell_type": "code",
   "execution_count": 902,
   "outputs": [],
   "source": [
    "df['order_num_total'] = df['order_num_total_ever_online'] + df['order_num_total_ever_offline']\n",
    "df['customer_value_total'] = (df['customer_value_total_ever_online'] + df['customer_value_total_ever_offline'])"
   ],
   "metadata": {
    "collapsed": false
   }
  },
  {
   "cell_type": "code",
   "execution_count": 903,
   "outputs": [
    {
     "data": {
      "text/plain": "                              master_id order_channel last_order_channel first_order_date last_order_date last_order_date_online last_order_date_offline  order_num_total_ever_online  order_num_total_ever_offline  customer_value_total_ever_offline  customer_value_total_ever_online       interested_in_categories_12  order_num_total  customer_value_total\n0  cc294636-19f0-11eb-8d74-000d3a38a36f   Android App            Offline       2020-10-30      2021-02-26             2021-02-21              2021-02-26                       4.0000                        1.0000                           139.9900                          799.3800                           [KADIN]           5.0000              939.3700\n1  f431bd5a-ab7b-11e9-a2fc-000d3a38a36f   Android App             Mobile       2017-02-08      2021-02-16             2021-02-16              2020-01-10                      19.0000                        2.0000                           159.9700                         1853.5800  [ERKEK, COCUK, KADIN, AKTIFSPOR]          21.0000             2013.5500\n2  69b69676-1a40-11ea-941b-000d3a38a36f   Android App        Android App       2019-11-27      2020-11-27             2020-11-27              2019-12-01                       3.0000                        2.0000                           189.9700                          395.3500                    [ERKEK, KADIN]           5.0000              585.3200\n3  1854e56c-491f-11eb-806e-000d3a38a36f   Android App        Android App       2021-01-06      2021-01-17             2021-01-17              2021-01-06                       1.0000                        1.0000                            39.9900                           81.9800               [AKTIFCOCUK, COCUK]           2.0000              121.9700\n4  d6ea1074-f1f5-11e9-9346-000d3a38a36f       Desktop            Desktop       2019-08-03      2021-03-07             2021-03-07              2019-08-03                       1.0000                        1.0000                            49.9900                          159.9900                       [AKTIFSPOR]           2.0000              209.9800",
      "text/html": "<div>\n<style scoped>\n    .dataframe tbody tr th:only-of-type {\n        vertical-align: middle;\n    }\n\n    .dataframe tbody tr th {\n        vertical-align: top;\n    }\n\n    .dataframe thead th {\n        text-align: right;\n    }\n</style>\n<table border=\"1\" class=\"dataframe\">\n  <thead>\n    <tr style=\"text-align: right;\">\n      <th></th>\n      <th>master_id</th>\n      <th>order_channel</th>\n      <th>last_order_channel</th>\n      <th>first_order_date</th>\n      <th>last_order_date</th>\n      <th>last_order_date_online</th>\n      <th>last_order_date_offline</th>\n      <th>order_num_total_ever_online</th>\n      <th>order_num_total_ever_offline</th>\n      <th>customer_value_total_ever_offline</th>\n      <th>customer_value_total_ever_online</th>\n      <th>interested_in_categories_12</th>\n      <th>order_num_total</th>\n      <th>customer_value_total</th>\n    </tr>\n  </thead>\n  <tbody>\n    <tr>\n      <th>0</th>\n      <td>cc294636-19f0-11eb-8d74-000d3a38a36f</td>\n      <td>Android App</td>\n      <td>Offline</td>\n      <td>2020-10-30</td>\n      <td>2021-02-26</td>\n      <td>2021-02-21</td>\n      <td>2021-02-26</td>\n      <td>4.0000</td>\n      <td>1.0000</td>\n      <td>139.9900</td>\n      <td>799.3800</td>\n      <td>[KADIN]</td>\n      <td>5.0000</td>\n      <td>939.3700</td>\n    </tr>\n    <tr>\n      <th>1</th>\n      <td>f431bd5a-ab7b-11e9-a2fc-000d3a38a36f</td>\n      <td>Android App</td>\n      <td>Mobile</td>\n      <td>2017-02-08</td>\n      <td>2021-02-16</td>\n      <td>2021-02-16</td>\n      <td>2020-01-10</td>\n      <td>19.0000</td>\n      <td>2.0000</td>\n      <td>159.9700</td>\n      <td>1853.5800</td>\n      <td>[ERKEK, COCUK, KADIN, AKTIFSPOR]</td>\n      <td>21.0000</td>\n      <td>2013.5500</td>\n    </tr>\n    <tr>\n      <th>2</th>\n      <td>69b69676-1a40-11ea-941b-000d3a38a36f</td>\n      <td>Android App</td>\n      <td>Android App</td>\n      <td>2019-11-27</td>\n      <td>2020-11-27</td>\n      <td>2020-11-27</td>\n      <td>2019-12-01</td>\n      <td>3.0000</td>\n      <td>2.0000</td>\n      <td>189.9700</td>\n      <td>395.3500</td>\n      <td>[ERKEK, KADIN]</td>\n      <td>5.0000</td>\n      <td>585.3200</td>\n    </tr>\n    <tr>\n      <th>3</th>\n      <td>1854e56c-491f-11eb-806e-000d3a38a36f</td>\n      <td>Android App</td>\n      <td>Android App</td>\n      <td>2021-01-06</td>\n      <td>2021-01-17</td>\n      <td>2021-01-17</td>\n      <td>2021-01-06</td>\n      <td>1.0000</td>\n      <td>1.0000</td>\n      <td>39.9900</td>\n      <td>81.9800</td>\n      <td>[AKTIFCOCUK, COCUK]</td>\n      <td>2.0000</td>\n      <td>121.9700</td>\n    </tr>\n    <tr>\n      <th>4</th>\n      <td>d6ea1074-f1f5-11e9-9346-000d3a38a36f</td>\n      <td>Desktop</td>\n      <td>Desktop</td>\n      <td>2019-08-03</td>\n      <td>2021-03-07</td>\n      <td>2021-03-07</td>\n      <td>2019-08-03</td>\n      <td>1.0000</td>\n      <td>1.0000</td>\n      <td>49.9900</td>\n      <td>159.9900</td>\n      <td>[AKTIFSPOR]</td>\n      <td>2.0000</td>\n      <td>209.9800</td>\n    </tr>\n  </tbody>\n</table>\n</div>"
     },
     "execution_count": 903,
     "metadata": {},
     "output_type": "execute_result"
    }
   ],
   "source": [
    "df.head()"
   ],
   "metadata": {
    "collapsed": false
   }
  },
  {
   "cell_type": "code",
   "execution_count": 904,
   "outputs": [],
   "source": [
    "df['first_order_date'] = pd.to_datetime(df['first_order_date'])\n",
    "df['last_order_date'] = pd.to_datetime(df['last_order_date'])\n",
    "df['last_order_date_online'] = pd.to_datetime(df['last_order_date_online'])\n",
    "df['last_order_date_offline'] = pd.to_datetime(df['last_order_date_offline'])"
   ],
   "metadata": {
    "collapsed": false
   }
  },
  {
   "cell_type": "code",
   "execution_count": 905,
   "outputs": [
    {
     "data": {
      "text/plain": "master_id                                    object\norder_channel                                object\nlast_order_channel                           object\nfirst_order_date                     datetime64[ns]\nlast_order_date                      datetime64[ns]\nlast_order_date_online               datetime64[ns]\nlast_order_date_offline              datetime64[ns]\norder_num_total_ever_online                 float64\norder_num_total_ever_offline                float64\ncustomer_value_total_ever_offline           float64\ncustomer_value_total_ever_online            float64\ninterested_in_categories_12                  object\norder_num_total                             float64\ncustomer_value_total                        float64\ndtype: object"
     },
     "execution_count": 905,
     "metadata": {},
     "output_type": "execute_result"
    }
   ],
   "source": [
    "df.dtypes"
   ],
   "metadata": {
    "collapsed": false
   }
  },
  {
   "cell_type": "code",
   "execution_count": 906,
   "outputs": [],
   "source": [
    "today_date = dt.datetime(2021, 6, 1)"
   ],
   "metadata": {
    "collapsed": false
   }
  },
  {
   "cell_type": "code",
   "execution_count": 907,
   "outputs": [],
   "source": [
    "#cltv_df.head()"
   ],
   "metadata": {
    "collapsed": false
   }
  },
  {
   "cell_type": "code",
   "execution_count": 908,
   "outputs": [],
   "source": [
    "cltv_df = pd.DataFrame()"
   ],
   "metadata": {
    "collapsed": false
   }
  },
  {
   "cell_type": "code",
   "execution_count": 909,
   "outputs": [],
   "source": [
    "cltv_df['customer_id'] = df['master_id']"
   ],
   "metadata": {
    "collapsed": false
   }
  },
  {
   "cell_type": "code",
   "execution_count": 910,
   "outputs": [],
   "source": [
    "cltv_df['recency_cltv_weekly'] = ((df['last_order_date'] - df['first_order_date']).astype('timedelta64[D]')) / 7"
   ],
   "metadata": {
    "collapsed": false
   }
  },
  {
   "cell_type": "code",
   "execution_count": 911,
   "outputs": [],
   "source": [
    "cltv_df['T_weekly'] = ((today_date - df['first_order_date']).astype('timedelta64[D]')) / 7"
   ],
   "metadata": {
    "collapsed": false
   }
  },
  {
   "cell_type": "code",
   "execution_count": 912,
   "outputs": [],
   "source": [
    "cltv_df['frequency'] = df['order_num_total']"
   ],
   "metadata": {
    "collapsed": false
   }
  },
  {
   "cell_type": "code",
   "execution_count": 913,
   "outputs": [],
   "source": [
    "cltv_df['monetary_cltv_avg'] = df['customer_value_total'] / df['order_num_total']"
   ],
   "metadata": {
    "collapsed": false
   }
  },
  {
   "cell_type": "code",
   "execution_count": 914,
   "outputs": [],
   "source": [
    "cltv_df = cltv_df[(cltv_df['frequency'] > 1)]"
   ],
   "metadata": {
    "collapsed": false
   }
  },
  {
   "cell_type": "code",
   "execution_count": 915,
   "outputs": [
    {
     "data": {
      "text/plain": "                            customer_id  recency_cltv_weekly  T_weekly  frequency  monetary_cltv_avg\n0  cc294636-19f0-11eb-8d74-000d3a38a36f              17.0000   30.5714     5.0000           187.8740\n1  f431bd5a-ab7b-11e9-a2fc-000d3a38a36f             209.8571  224.8571    21.0000            95.8833\n2  69b69676-1a40-11ea-941b-000d3a38a36f              52.2857   78.8571     5.0000           117.0640\n3  1854e56c-491f-11eb-806e-000d3a38a36f               1.5714   20.8571     2.0000            60.9850\n4  d6ea1074-f1f5-11e9-9346-000d3a38a36f              83.1429   95.4286     2.0000           104.9900",
      "text/html": "<div>\n<style scoped>\n    .dataframe tbody tr th:only-of-type {\n        vertical-align: middle;\n    }\n\n    .dataframe tbody tr th {\n        vertical-align: top;\n    }\n\n    .dataframe thead th {\n        text-align: right;\n    }\n</style>\n<table border=\"1\" class=\"dataframe\">\n  <thead>\n    <tr style=\"text-align: right;\">\n      <th></th>\n      <th>customer_id</th>\n      <th>recency_cltv_weekly</th>\n      <th>T_weekly</th>\n      <th>frequency</th>\n      <th>monetary_cltv_avg</th>\n    </tr>\n  </thead>\n  <tbody>\n    <tr>\n      <th>0</th>\n      <td>cc294636-19f0-11eb-8d74-000d3a38a36f</td>\n      <td>17.0000</td>\n      <td>30.5714</td>\n      <td>5.0000</td>\n      <td>187.8740</td>\n    </tr>\n    <tr>\n      <th>1</th>\n      <td>f431bd5a-ab7b-11e9-a2fc-000d3a38a36f</td>\n      <td>209.8571</td>\n      <td>224.8571</td>\n      <td>21.0000</td>\n      <td>95.8833</td>\n    </tr>\n    <tr>\n      <th>2</th>\n      <td>69b69676-1a40-11ea-941b-000d3a38a36f</td>\n      <td>52.2857</td>\n      <td>78.8571</td>\n      <td>5.0000</td>\n      <td>117.0640</td>\n    </tr>\n    <tr>\n      <th>3</th>\n      <td>1854e56c-491f-11eb-806e-000d3a38a36f</td>\n      <td>1.5714</td>\n      <td>20.8571</td>\n      <td>2.0000</td>\n      <td>60.9850</td>\n    </tr>\n    <tr>\n      <th>4</th>\n      <td>d6ea1074-f1f5-11e9-9346-000d3a38a36f</td>\n      <td>83.1429</td>\n      <td>95.4286</td>\n      <td>2.0000</td>\n      <td>104.9900</td>\n    </tr>\n  </tbody>\n</table>\n</div>"
     },
     "execution_count": 915,
     "metadata": {},
     "output_type": "execute_result"
    }
   ],
   "source": [
    "cltv_df.head()"
   ],
   "metadata": {
    "collapsed": false
   }
  },
  {
   "cell_type": "code",
   "execution_count": 916,
   "outputs": [],
   "source": [
    "bgf = BetaGeoFitter(penalizer_coef=0.001)"
   ],
   "metadata": {
    "collapsed": false
   }
  },
  {
   "cell_type": "code",
   "execution_count": 917,
   "outputs": [
    {
     "name": "stderr",
     "output_type": "stream",
     "text": [
      "C:\\Users\\ezgie\\anaconda3\\envs\\cltv-prediction\\lib\\site-packages\\pandas\\core\\arraylike.py:402: RuntimeWarning: invalid value encountered in sqrt\n",
      "  result = getattr(ufunc, method)(*inputs, **kwargs)\n"
     ]
    },
    {
     "data": {
      "text/plain": "<lifetimes.BetaGeoFitter: fitted with 19945 subjects, a: 0.00, alpha: 76.17, b: 0.00, r: 3.66>"
     },
     "execution_count": 917,
     "metadata": {},
     "output_type": "execute_result"
    }
   ],
   "source": [
    "bgf.fit(cltv_df['frequency'], cltv_df['recency_cltv_weekly'], cltv_df['T_weekly'])"
   ],
   "metadata": {
    "collapsed": false
   }
  },
  {
   "cell_type": "code",
   "execution_count": 918,
   "outputs": [],
   "source": [
    "cltv_df['exp_sales_3_month'] = bgf.predict(4 * 3, cltv_df['frequency'], cltv_df['recency_cltv_weekly'],\n",
    "                                           cltv_df['T_weekly'])"
   ],
   "metadata": {
    "collapsed": false
   }
  },
  {
   "cell_type": "code",
   "execution_count": 919,
   "outputs": [],
   "source": [
    "cltv_df['exp_sales_6_month'] = bgf.predict(4 * 6, cltv_df['frequency'], cltv_df['recency_cltv_weekly'],\n",
    "                                           cltv_df['T_weekly'])"
   ],
   "metadata": {
    "collapsed": false
   }
  },
  {
   "cell_type": "code",
   "execution_count": 920,
   "outputs": [
    {
     "data": {
      "text/plain": "                                customer_id  recency_cltv_weekly  T_weekly  frequency  monetary_cltv_avg  exp_sales_3_month  exp_sales_6_month\n0      cc294636-19f0-11eb-8d74-000d3a38a36f              17.0000   30.5714     5.0000           187.8740             0.9739             1.9479\n1      f431bd5a-ab7b-11e9-a2fc-000d3a38a36f             209.8571  224.8571    21.0000            95.8833             0.9832             1.9663\n2      69b69676-1a40-11ea-941b-000d3a38a36f              52.2857   78.8571     5.0000           117.0640             0.6706             1.3412\n3      1854e56c-491f-11eb-806e-000d3a38a36f               1.5714   20.8571     2.0000            60.9850             0.7004             1.4008\n4      d6ea1074-f1f5-11e9-9346-000d3a38a36f              83.1429   95.4286     2.0000           104.9900             0.3960             0.7921\n...                                     ...                  ...       ...        ...                ...                ...                ...\n19940  727e2b6e-ddd4-11e9-a848-000d3a38a36f              41.1429   88.4286     3.0000           133.9867             0.4858             0.9716\n19941  25cd53d4-61bf-11ea-8dd8-000d3a38a36f              42.2857   65.2857     2.0000           195.2350             0.4804             0.9609\n19942  8aea4c2a-d6fc-11e9-93bc-000d3a38a36f              88.7143   89.8571     3.0000           210.9800             0.4816             0.9632\n19943  e50bb46c-ff30-11e9-a5e8-000d3a38a36f              98.4286  113.8571     6.0000           168.2950             0.6102             1.2204\n19944  740998d2-b1f7-11e9-89fa-000d3a38a36f              39.5714   91.0000     2.0000           130.9850             0.4065             0.8131\n\n[19945 rows x 7 columns]",
      "text/html": "<div>\n<style scoped>\n    .dataframe tbody tr th:only-of-type {\n        vertical-align: middle;\n    }\n\n    .dataframe tbody tr th {\n        vertical-align: top;\n    }\n\n    .dataframe thead th {\n        text-align: right;\n    }\n</style>\n<table border=\"1\" class=\"dataframe\">\n  <thead>\n    <tr style=\"text-align: right;\">\n      <th></th>\n      <th>customer_id</th>\n      <th>recency_cltv_weekly</th>\n      <th>T_weekly</th>\n      <th>frequency</th>\n      <th>monetary_cltv_avg</th>\n      <th>exp_sales_3_month</th>\n      <th>exp_sales_6_month</th>\n    </tr>\n  </thead>\n  <tbody>\n    <tr>\n      <th>0</th>\n      <td>cc294636-19f0-11eb-8d74-000d3a38a36f</td>\n      <td>17.0000</td>\n      <td>30.5714</td>\n      <td>5.0000</td>\n      <td>187.8740</td>\n      <td>0.9739</td>\n      <td>1.9479</td>\n    </tr>\n    <tr>\n      <th>1</th>\n      <td>f431bd5a-ab7b-11e9-a2fc-000d3a38a36f</td>\n      <td>209.8571</td>\n      <td>224.8571</td>\n      <td>21.0000</td>\n      <td>95.8833</td>\n      <td>0.9832</td>\n      <td>1.9663</td>\n    </tr>\n    <tr>\n      <th>2</th>\n      <td>69b69676-1a40-11ea-941b-000d3a38a36f</td>\n      <td>52.2857</td>\n      <td>78.8571</td>\n      <td>5.0000</td>\n      <td>117.0640</td>\n      <td>0.6706</td>\n      <td>1.3412</td>\n    </tr>\n    <tr>\n      <th>3</th>\n      <td>1854e56c-491f-11eb-806e-000d3a38a36f</td>\n      <td>1.5714</td>\n      <td>20.8571</td>\n      <td>2.0000</td>\n      <td>60.9850</td>\n      <td>0.7004</td>\n      <td>1.4008</td>\n    </tr>\n    <tr>\n      <th>4</th>\n      <td>d6ea1074-f1f5-11e9-9346-000d3a38a36f</td>\n      <td>83.1429</td>\n      <td>95.4286</td>\n      <td>2.0000</td>\n      <td>104.9900</td>\n      <td>0.3960</td>\n      <td>0.7921</td>\n    </tr>\n    <tr>\n      <th>...</th>\n      <td>...</td>\n      <td>...</td>\n      <td>...</td>\n      <td>...</td>\n      <td>...</td>\n      <td>...</td>\n      <td>...</td>\n    </tr>\n    <tr>\n      <th>19940</th>\n      <td>727e2b6e-ddd4-11e9-a848-000d3a38a36f</td>\n      <td>41.1429</td>\n      <td>88.4286</td>\n      <td>3.0000</td>\n      <td>133.9867</td>\n      <td>0.4858</td>\n      <td>0.9716</td>\n    </tr>\n    <tr>\n      <th>19941</th>\n      <td>25cd53d4-61bf-11ea-8dd8-000d3a38a36f</td>\n      <td>42.2857</td>\n      <td>65.2857</td>\n      <td>2.0000</td>\n      <td>195.2350</td>\n      <td>0.4804</td>\n      <td>0.9609</td>\n    </tr>\n    <tr>\n      <th>19942</th>\n      <td>8aea4c2a-d6fc-11e9-93bc-000d3a38a36f</td>\n      <td>88.7143</td>\n      <td>89.8571</td>\n      <td>3.0000</td>\n      <td>210.9800</td>\n      <td>0.4816</td>\n      <td>0.9632</td>\n    </tr>\n    <tr>\n      <th>19943</th>\n      <td>e50bb46c-ff30-11e9-a5e8-000d3a38a36f</td>\n      <td>98.4286</td>\n      <td>113.8571</td>\n      <td>6.0000</td>\n      <td>168.2950</td>\n      <td>0.6102</td>\n      <td>1.2204</td>\n    </tr>\n    <tr>\n      <th>19944</th>\n      <td>740998d2-b1f7-11e9-89fa-000d3a38a36f</td>\n      <td>39.5714</td>\n      <td>91.0000</td>\n      <td>2.0000</td>\n      <td>130.9850</td>\n      <td>0.4065</td>\n      <td>0.8131</td>\n    </tr>\n  </tbody>\n</table>\n<p>19945 rows × 7 columns</p>\n</div>"
     },
     "execution_count": 920,
     "metadata": {},
     "output_type": "execute_result"
    }
   ],
   "source": [
    "cltv_df"
   ],
   "metadata": {
    "collapsed": false
   }
  },
  {
   "cell_type": "code",
   "execution_count": 921,
   "outputs": [
    {
     "data": {
      "text/plain": "                                customer_id  recency_cltv_weekly  T_weekly  frequency  monetary_cltv_avg  exp_sales_3_month  exp_sales_6_month\n7330   a4d534a2-5b1b-11eb-8dbd-000d3a38a36f              62.7143   67.2857    52.0000           166.2246             4.6561             9.3123\n15611  4a7e875e-e6ce-11ea-8f44-000d3a38a36f              39.7143   40.0000    29.0000           165.2976             3.3740             6.7479\n8328   1902bf80-0035-11eb-8341-000d3a38a36f              28.8571   33.2857    25.0000            97.4396             3.1424             6.2848\n19538  55d54d9e-8ac7-11ea-8ec0-000d3a38a36f              52.5714   58.7143    31.0000           228.5300             3.0838             6.1676\n14373  f00ad516-c4f4-11ea-98f7-000d3a38a36f              38.0000   46.4286    27.0000           141.3548             3.0013             6.0026\n10489  7af5cd16-b100-11e9-9757-000d3a38a36f             103.1429  111.8571    43.0000           157.1126             2.9780             5.9561\n4315   d5ef8058-a5c6-11e9-a2fc-000d3a38a36f             133.1429  147.1429    49.0000           161.8467             2.8299             5.6598\n6756   27310582-6362-11ea-a6dc-000d3a38a36f              62.7143   64.1429    29.0000           168.8810             2.7934             5.5869\n6666   53fe00d4-7b7a-11eb-960b-000d3a38a36f               9.7143   13.0000    17.0000           259.8653             2.7807             5.5614\n10536  e143b6fa-d6f8-11e9-93bc-000d3a38a36f             104.5714  113.4286    40.0000           176.2000             2.7635             5.5270",
      "text/html": "<div>\n<style scoped>\n    .dataframe tbody tr th:only-of-type {\n        vertical-align: middle;\n    }\n\n    .dataframe tbody tr th {\n        vertical-align: top;\n    }\n\n    .dataframe thead th {\n        text-align: right;\n    }\n</style>\n<table border=\"1\" class=\"dataframe\">\n  <thead>\n    <tr style=\"text-align: right;\">\n      <th></th>\n      <th>customer_id</th>\n      <th>recency_cltv_weekly</th>\n      <th>T_weekly</th>\n      <th>frequency</th>\n      <th>monetary_cltv_avg</th>\n      <th>exp_sales_3_month</th>\n      <th>exp_sales_6_month</th>\n    </tr>\n  </thead>\n  <tbody>\n    <tr>\n      <th>7330</th>\n      <td>a4d534a2-5b1b-11eb-8dbd-000d3a38a36f</td>\n      <td>62.7143</td>\n      <td>67.2857</td>\n      <td>52.0000</td>\n      <td>166.2246</td>\n      <td>4.6561</td>\n      <td>9.3123</td>\n    </tr>\n    <tr>\n      <th>15611</th>\n      <td>4a7e875e-e6ce-11ea-8f44-000d3a38a36f</td>\n      <td>39.7143</td>\n      <td>40.0000</td>\n      <td>29.0000</td>\n      <td>165.2976</td>\n      <td>3.3740</td>\n      <td>6.7479</td>\n    </tr>\n    <tr>\n      <th>8328</th>\n      <td>1902bf80-0035-11eb-8341-000d3a38a36f</td>\n      <td>28.8571</td>\n      <td>33.2857</td>\n      <td>25.0000</td>\n      <td>97.4396</td>\n      <td>3.1424</td>\n      <td>6.2848</td>\n    </tr>\n    <tr>\n      <th>19538</th>\n      <td>55d54d9e-8ac7-11ea-8ec0-000d3a38a36f</td>\n      <td>52.5714</td>\n      <td>58.7143</td>\n      <td>31.0000</td>\n      <td>228.5300</td>\n      <td>3.0838</td>\n      <td>6.1676</td>\n    </tr>\n    <tr>\n      <th>14373</th>\n      <td>f00ad516-c4f4-11ea-98f7-000d3a38a36f</td>\n      <td>38.0000</td>\n      <td>46.4286</td>\n      <td>27.0000</td>\n      <td>141.3548</td>\n      <td>3.0013</td>\n      <td>6.0026</td>\n    </tr>\n    <tr>\n      <th>10489</th>\n      <td>7af5cd16-b100-11e9-9757-000d3a38a36f</td>\n      <td>103.1429</td>\n      <td>111.8571</td>\n      <td>43.0000</td>\n      <td>157.1126</td>\n      <td>2.9780</td>\n      <td>5.9561</td>\n    </tr>\n    <tr>\n      <th>4315</th>\n      <td>d5ef8058-a5c6-11e9-a2fc-000d3a38a36f</td>\n      <td>133.1429</td>\n      <td>147.1429</td>\n      <td>49.0000</td>\n      <td>161.8467</td>\n      <td>2.8299</td>\n      <td>5.6598</td>\n    </tr>\n    <tr>\n      <th>6756</th>\n      <td>27310582-6362-11ea-a6dc-000d3a38a36f</td>\n      <td>62.7143</td>\n      <td>64.1429</td>\n      <td>29.0000</td>\n      <td>168.8810</td>\n      <td>2.7934</td>\n      <td>5.5869</td>\n    </tr>\n    <tr>\n      <th>6666</th>\n      <td>53fe00d4-7b7a-11eb-960b-000d3a38a36f</td>\n      <td>9.7143</td>\n      <td>13.0000</td>\n      <td>17.0000</td>\n      <td>259.8653</td>\n      <td>2.7807</td>\n      <td>5.5614</td>\n    </tr>\n    <tr>\n      <th>10536</th>\n      <td>e143b6fa-d6f8-11e9-93bc-000d3a38a36f</td>\n      <td>104.5714</td>\n      <td>113.4286</td>\n      <td>40.0000</td>\n      <td>176.2000</td>\n      <td>2.7635</td>\n      <td>5.5270</td>\n    </tr>\n  </tbody>\n</table>\n</div>"
     },
     "execution_count": 921,
     "metadata": {},
     "output_type": "execute_result"
    }
   ],
   "source": [
    "cltv_df.sort_values(\"exp_sales_3_month\", ascending=False)[:10]"
   ],
   "metadata": {
    "collapsed": false
   }
  },
  {
   "cell_type": "code",
   "execution_count": 922,
   "outputs": [
    {
     "data": {
      "text/plain": "                                customer_id  recency_cltv_weekly  T_weekly  frequency  monetary_cltv_avg  exp_sales_3_month  exp_sales_6_month\n7330   a4d534a2-5b1b-11eb-8dbd-000d3a38a36f              62.7143   67.2857    52.0000           166.2246             4.6561             9.3123\n15611  4a7e875e-e6ce-11ea-8f44-000d3a38a36f              39.7143   40.0000    29.0000           165.2976             3.3740             6.7479\n8328   1902bf80-0035-11eb-8341-000d3a38a36f              28.8571   33.2857    25.0000            97.4396             3.1424             6.2848\n19538  55d54d9e-8ac7-11ea-8ec0-000d3a38a36f              52.5714   58.7143    31.0000           228.5300             3.0838             6.1676\n14373  f00ad516-c4f4-11ea-98f7-000d3a38a36f              38.0000   46.4286    27.0000           141.3548             3.0013             6.0026\n10489  7af5cd16-b100-11e9-9757-000d3a38a36f             103.1429  111.8571    43.0000           157.1126             2.9780             5.9561\n4315   d5ef8058-a5c6-11e9-a2fc-000d3a38a36f             133.1429  147.1429    49.0000           161.8467             2.8299             5.6598\n6756   27310582-6362-11ea-a6dc-000d3a38a36f              62.7143   64.1429    29.0000           168.8810             2.7934             5.5869\n6666   53fe00d4-7b7a-11eb-960b-000d3a38a36f               9.7143   13.0000    17.0000           259.8653             2.7807             5.5614\n10536  e143b6fa-d6f8-11e9-93bc-000d3a38a36f             104.5714  113.4286    40.0000           176.2000             2.7635             5.5270",
      "text/html": "<div>\n<style scoped>\n    .dataframe tbody tr th:only-of-type {\n        vertical-align: middle;\n    }\n\n    .dataframe tbody tr th {\n        vertical-align: top;\n    }\n\n    .dataframe thead th {\n        text-align: right;\n    }\n</style>\n<table border=\"1\" class=\"dataframe\">\n  <thead>\n    <tr style=\"text-align: right;\">\n      <th></th>\n      <th>customer_id</th>\n      <th>recency_cltv_weekly</th>\n      <th>T_weekly</th>\n      <th>frequency</th>\n      <th>monetary_cltv_avg</th>\n      <th>exp_sales_3_month</th>\n      <th>exp_sales_6_month</th>\n    </tr>\n  </thead>\n  <tbody>\n    <tr>\n      <th>7330</th>\n      <td>a4d534a2-5b1b-11eb-8dbd-000d3a38a36f</td>\n      <td>62.7143</td>\n      <td>67.2857</td>\n      <td>52.0000</td>\n      <td>166.2246</td>\n      <td>4.6561</td>\n      <td>9.3123</td>\n    </tr>\n    <tr>\n      <th>15611</th>\n      <td>4a7e875e-e6ce-11ea-8f44-000d3a38a36f</td>\n      <td>39.7143</td>\n      <td>40.0000</td>\n      <td>29.0000</td>\n      <td>165.2976</td>\n      <td>3.3740</td>\n      <td>6.7479</td>\n    </tr>\n    <tr>\n      <th>8328</th>\n      <td>1902bf80-0035-11eb-8341-000d3a38a36f</td>\n      <td>28.8571</td>\n      <td>33.2857</td>\n      <td>25.0000</td>\n      <td>97.4396</td>\n      <td>3.1424</td>\n      <td>6.2848</td>\n    </tr>\n    <tr>\n      <th>19538</th>\n      <td>55d54d9e-8ac7-11ea-8ec0-000d3a38a36f</td>\n      <td>52.5714</td>\n      <td>58.7143</td>\n      <td>31.0000</td>\n      <td>228.5300</td>\n      <td>3.0838</td>\n      <td>6.1676</td>\n    </tr>\n    <tr>\n      <th>14373</th>\n      <td>f00ad516-c4f4-11ea-98f7-000d3a38a36f</td>\n      <td>38.0000</td>\n      <td>46.4286</td>\n      <td>27.0000</td>\n      <td>141.3548</td>\n      <td>3.0013</td>\n      <td>6.0026</td>\n    </tr>\n    <tr>\n      <th>10489</th>\n      <td>7af5cd16-b100-11e9-9757-000d3a38a36f</td>\n      <td>103.1429</td>\n      <td>111.8571</td>\n      <td>43.0000</td>\n      <td>157.1126</td>\n      <td>2.9780</td>\n      <td>5.9561</td>\n    </tr>\n    <tr>\n      <th>4315</th>\n      <td>d5ef8058-a5c6-11e9-a2fc-000d3a38a36f</td>\n      <td>133.1429</td>\n      <td>147.1429</td>\n      <td>49.0000</td>\n      <td>161.8467</td>\n      <td>2.8299</td>\n      <td>5.6598</td>\n    </tr>\n    <tr>\n      <th>6756</th>\n      <td>27310582-6362-11ea-a6dc-000d3a38a36f</td>\n      <td>62.7143</td>\n      <td>64.1429</td>\n      <td>29.0000</td>\n      <td>168.8810</td>\n      <td>2.7934</td>\n      <td>5.5869</td>\n    </tr>\n    <tr>\n      <th>6666</th>\n      <td>53fe00d4-7b7a-11eb-960b-000d3a38a36f</td>\n      <td>9.7143</td>\n      <td>13.0000</td>\n      <td>17.0000</td>\n      <td>259.8653</td>\n      <td>2.7807</td>\n      <td>5.5614</td>\n    </tr>\n    <tr>\n      <th>10536</th>\n      <td>e143b6fa-d6f8-11e9-93bc-000d3a38a36f</td>\n      <td>104.5714</td>\n      <td>113.4286</td>\n      <td>40.0000</td>\n      <td>176.2000</td>\n      <td>2.7635</td>\n      <td>5.5270</td>\n    </tr>\n  </tbody>\n</table>\n</div>"
     },
     "execution_count": 922,
     "metadata": {},
     "output_type": "execute_result"
    }
   ],
   "source": [
    "cltv_df.sort_values(\"exp_sales_6_month\", ascending=False)[:10]"
   ],
   "metadata": {
    "collapsed": false
   }
  },
  {
   "cell_type": "code",
   "execution_count": 923,
   "outputs": [],
   "source": [
    "ggf = GammaGammaFitter(penalizer_coef=0.01)"
   ],
   "metadata": {
    "collapsed": false
   }
  },
  {
   "cell_type": "code",
   "execution_count": 924,
   "outputs": [
    {
     "data": {
      "text/plain": "<lifetimes.GammaGammaFitter: fitted with 19945 subjects, p: 4.15, q: 0.47, v: 4.08>"
     },
     "execution_count": 924,
     "metadata": {},
     "output_type": "execute_result"
    }
   ],
   "source": [
    "ggf.fit(cltv_df['frequency'], cltv_df['monetary_cltv_avg'])"
   ],
   "metadata": {
    "collapsed": false
   }
  },
  {
   "cell_type": "code",
   "execution_count": 925,
   "outputs": [],
   "source": [
    "cltv_df['exp_average_value'] = ggf.conditional_expected_average_profit(cltv_df['frequency'],\n",
    "                                                                       cltv_df['monetary_cltv_avg'])"
   ],
   "metadata": {
    "collapsed": false
   }
  },
  {
   "cell_type": "code",
   "execution_count": 926,
   "outputs": [
    {
     "data": {
      "text/plain": "                            customer_id  recency_cltv_weekly  T_weekly  frequency  monetary_cltv_avg  exp_sales_3_month  exp_sales_6_month  exp_average_value\n0  cc294636-19f0-11eb-8d74-000d3a38a36f              17.0000   30.5714     5.0000           187.8740             0.9739             1.9479           193.6327\n1  f431bd5a-ab7b-11e9-a2fc-000d3a38a36f             209.8571  224.8571    21.0000            95.8833             0.9832             1.9663            96.6650\n2  69b69676-1a40-11ea-941b-000d3a38a36f              52.2857   78.8571     5.0000           117.0640             0.6706             1.3412           120.9676\n3  1854e56c-491f-11eb-806e-000d3a38a36f               1.5714   20.8571     2.0000            60.9850             0.7004             1.4008            67.3201\n4  d6ea1074-f1f5-11e9-9346-000d3a38a36f              83.1429   95.4286     2.0000           104.9900             0.3960             0.7921           114.3251",
      "text/html": "<div>\n<style scoped>\n    .dataframe tbody tr th:only-of-type {\n        vertical-align: middle;\n    }\n\n    .dataframe tbody tr th {\n        vertical-align: top;\n    }\n\n    .dataframe thead th {\n        text-align: right;\n    }\n</style>\n<table border=\"1\" class=\"dataframe\">\n  <thead>\n    <tr style=\"text-align: right;\">\n      <th></th>\n      <th>customer_id</th>\n      <th>recency_cltv_weekly</th>\n      <th>T_weekly</th>\n      <th>frequency</th>\n      <th>monetary_cltv_avg</th>\n      <th>exp_sales_3_month</th>\n      <th>exp_sales_6_month</th>\n      <th>exp_average_value</th>\n    </tr>\n  </thead>\n  <tbody>\n    <tr>\n      <th>0</th>\n      <td>cc294636-19f0-11eb-8d74-000d3a38a36f</td>\n      <td>17.0000</td>\n      <td>30.5714</td>\n      <td>5.0000</td>\n      <td>187.8740</td>\n      <td>0.9739</td>\n      <td>1.9479</td>\n      <td>193.6327</td>\n    </tr>\n    <tr>\n      <th>1</th>\n      <td>f431bd5a-ab7b-11e9-a2fc-000d3a38a36f</td>\n      <td>209.8571</td>\n      <td>224.8571</td>\n      <td>21.0000</td>\n      <td>95.8833</td>\n      <td>0.9832</td>\n      <td>1.9663</td>\n      <td>96.6650</td>\n    </tr>\n    <tr>\n      <th>2</th>\n      <td>69b69676-1a40-11ea-941b-000d3a38a36f</td>\n      <td>52.2857</td>\n      <td>78.8571</td>\n      <td>5.0000</td>\n      <td>117.0640</td>\n      <td>0.6706</td>\n      <td>1.3412</td>\n      <td>120.9676</td>\n    </tr>\n    <tr>\n      <th>3</th>\n      <td>1854e56c-491f-11eb-806e-000d3a38a36f</td>\n      <td>1.5714</td>\n      <td>20.8571</td>\n      <td>2.0000</td>\n      <td>60.9850</td>\n      <td>0.7004</td>\n      <td>1.4008</td>\n      <td>67.3201</td>\n    </tr>\n    <tr>\n      <th>4</th>\n      <td>d6ea1074-f1f5-11e9-9346-000d3a38a36f</td>\n      <td>83.1429</td>\n      <td>95.4286</td>\n      <td>2.0000</td>\n      <td>104.9900</td>\n      <td>0.3960</td>\n      <td>0.7921</td>\n      <td>114.3251</td>\n    </tr>\n  </tbody>\n</table>\n</div>"
     },
     "execution_count": 926,
     "metadata": {},
     "output_type": "execute_result"
    }
   ],
   "source": [
    "cltv_df.head()"
   ],
   "metadata": {
    "collapsed": false
   }
  },
  {
   "cell_type": "code",
   "execution_count": 927,
   "outputs": [],
   "source": [
    "cltv_6_month = ggf.customer_lifetime_value(bgf,\n",
    "                                           cltv_df['frequency'],\n",
    "                                           cltv_df['recency_cltv_weekly'],\n",
    "                                           cltv_df['T_weekly'],\n",
    "                                           cltv_df['monetary_cltv_avg'],\n",
    "                                           time=6,\n",
    "                                           freq=\"W\",\n",
    "                                           discount_rate=0.01)"
   ],
   "metadata": {
    "collapsed": false
   }
  },
  {
   "cell_type": "code",
   "execution_count": 928,
   "outputs": [
    {
     "data": {
      "text/plain": "                            customer_id  recency_cltv_weekly  T_weekly  frequency  monetary_cltv_avg  exp_sales_3_month  exp_sales_6_month  exp_average_value  cltv_6_month\n0  cc294636-19f0-11eb-8d74-000d3a38a36f              17.0000   30.5714     5.0000           187.8740             0.9739             1.9479           193.6327      395.7332\n1  f431bd5a-ab7b-11e9-a2fc-000d3a38a36f             209.8571  224.8571    21.0000            95.8833             0.9832             1.9663            96.6650      199.4307\n2  69b69676-1a40-11ea-941b-000d3a38a36f              52.2857   78.8571     5.0000           117.0640             0.6706             1.3412           120.9676      170.2242\n3  1854e56c-491f-11eb-806e-000d3a38a36f               1.5714   20.8571     2.0000            60.9850             0.7004             1.4008            67.3201       98.9455\n4  d6ea1074-f1f5-11e9-9346-000d3a38a36f              83.1429   95.4286     2.0000           104.9900             0.3960             0.7921           114.3251       95.0117",
      "text/html": "<div>\n<style scoped>\n    .dataframe tbody tr th:only-of-type {\n        vertical-align: middle;\n    }\n\n    .dataframe tbody tr th {\n        vertical-align: top;\n    }\n\n    .dataframe thead th {\n        text-align: right;\n    }\n</style>\n<table border=\"1\" class=\"dataframe\">\n  <thead>\n    <tr style=\"text-align: right;\">\n      <th></th>\n      <th>customer_id</th>\n      <th>recency_cltv_weekly</th>\n      <th>T_weekly</th>\n      <th>frequency</th>\n      <th>monetary_cltv_avg</th>\n      <th>exp_sales_3_month</th>\n      <th>exp_sales_6_month</th>\n      <th>exp_average_value</th>\n      <th>cltv_6_month</th>\n    </tr>\n  </thead>\n  <tbody>\n    <tr>\n      <th>0</th>\n      <td>cc294636-19f0-11eb-8d74-000d3a38a36f</td>\n      <td>17.0000</td>\n      <td>30.5714</td>\n      <td>5.0000</td>\n      <td>187.8740</td>\n      <td>0.9739</td>\n      <td>1.9479</td>\n      <td>193.6327</td>\n      <td>395.7332</td>\n    </tr>\n    <tr>\n      <th>1</th>\n      <td>f431bd5a-ab7b-11e9-a2fc-000d3a38a36f</td>\n      <td>209.8571</td>\n      <td>224.8571</td>\n      <td>21.0000</td>\n      <td>95.8833</td>\n      <td>0.9832</td>\n      <td>1.9663</td>\n      <td>96.6650</td>\n      <td>199.4307</td>\n    </tr>\n    <tr>\n      <th>2</th>\n      <td>69b69676-1a40-11ea-941b-000d3a38a36f</td>\n      <td>52.2857</td>\n      <td>78.8571</td>\n      <td>5.0000</td>\n      <td>117.0640</td>\n      <td>0.6706</td>\n      <td>1.3412</td>\n      <td>120.9676</td>\n      <td>170.2242</td>\n    </tr>\n    <tr>\n      <th>3</th>\n      <td>1854e56c-491f-11eb-806e-000d3a38a36f</td>\n      <td>1.5714</td>\n      <td>20.8571</td>\n      <td>2.0000</td>\n      <td>60.9850</td>\n      <td>0.7004</td>\n      <td>1.4008</td>\n      <td>67.3201</td>\n      <td>98.9455</td>\n    </tr>\n    <tr>\n      <th>4</th>\n      <td>d6ea1074-f1f5-11e9-9346-000d3a38a36f</td>\n      <td>83.1429</td>\n      <td>95.4286</td>\n      <td>2.0000</td>\n      <td>104.9900</td>\n      <td>0.3960</td>\n      <td>0.7921</td>\n      <td>114.3251</td>\n      <td>95.0117</td>\n    </tr>\n  </tbody>\n</table>\n</div>"
     },
     "execution_count": 928,
     "metadata": {},
     "output_type": "execute_result"
    }
   ],
   "source": [
    "cltv_df['cltv_6_month'] = cltv_6_month\n",
    "\n",
    "cltv_df.head()"
   ],
   "metadata": {
    "collapsed": false
   }
  },
  {
   "cell_type": "code",
   "execution_count": 929,
   "outputs": [
    {
     "data": {
      "text/plain": "                                customer_id  recency_cltv_weekly  T_weekly  frequency  monetary_cltv_avg  exp_sales_3_month  exp_sales_6_month  exp_average_value  cltv_6_month\n9055   47a642fe-975b-11eb-8c2a-000d3a38a36f               2.8571    7.8571     4.0000          1401.8000             1.0944             2.1888          1449.0605     3327.7770\n13880  7137a5c0-7aad-11ea-8f20-000d3a38a36f               6.1429   13.1429    11.0000           758.0855             1.9701             3.9402           767.3606     3172.3944\n17323  f59053e2-a503-11e9-a2fc-000d3a38a36f              51.7143  101.0000     7.0000          1106.4671             0.7222             1.4445          1127.6115     1708.9821\n12438  625f40a2-5bd2-11ea-98b0-000d3a38a36f              74.2857   74.5714    16.0000           501.8737             1.5653             3.1306           506.1667     1662.6135\n7330   a4d534a2-5b1b-11eb-8dbd-000d3a38a36f              62.7143   67.2857    52.0000           166.2246             4.6561             9.3123           166.7123     1628.8874\n8868   9ce6e520-89b0-11ea-a6e7-000d3a38a36f               3.4286   34.4286     8.0000           601.2262             1.2655             2.5309           611.4926     1623.8127\n6402   851de3b4-8f0c-11eb-8cb8-000d3a38a36f               8.2857    9.4286     2.0000           862.6900             0.7939             1.5878           923.6800     1538.8559\n6666   53fe00d4-7b7a-11eb-960b-000d3a38a36f               9.7143   13.0000    17.0000           259.8653             2.7807             5.5614           262.0729     1529.2280\n19538  55d54d9e-8ac7-11ea-8ec0-000d3a38a36f              52.5714   58.7143    31.0000           228.5300             3.0838             6.1676           229.6069     1485.8192\n14858  031b2954-6d28-11eb-99c4-000d3a38a36f              14.8571   15.5714     3.0000           743.5867             0.8716             1.7431           778.0504     1422.9997\n17963  8fd88976-6708-11ea-9d38-000d3a38a36f              50.2857   63.2857     7.0000           694.1986             0.9176             1.8351           707.6856     1362.6072\n15516  9083981a-f59e-11e9-841e-000d3a38a36f              63.5714   83.8571     4.0000          1090.3600             0.5746             1.1493          1127.3545     1359.4397\n6717   40b4f318-9dfb-11eb-9c47-000d3a38a36f              27.1429   33.8571     7.0000           544.7000             1.1630             2.3259           555.4103     1355.4352\n4157   7eed6468-4540-11ea-acaf-000d3a38a36f              89.1429   90.0000    27.0000           289.7641             2.2143             4.4287           291.2922     1353.5337\n4735   dbabb58e-6312-11ea-a6dc-000d3a38a36f              61.2857   64.2857    13.0000           442.1154             1.4236             2.8473           446.8162     1334.8251\n11694  90f1b7f2-bbad-11ea-a0c9-000d3a38a36f              47.2857   48.0000     6.0000           647.3450             0.9339             1.8677           662.1103     1297.5186\n11179  d2e74a36-3228-11eb-860c-000d3a38a36f               1.1429   26.2857     3.0000           750.5700             0.7804             1.5608           785.3440     1286.1378\n1853   f02473b0-43c3-11eb-806e-000d3a38a36f              17.2857   23.1429     2.0000           835.8750             0.6843             1.3686           895.0369     1285.2277\n5775   e31293ac-d63a-11e9-93bc-000d3a38a36f              91.7143   93.1429     8.0000           727.0862             0.8266             1.6533           739.3933     1282.5758\n7312   90befc98-925a-11eb-b584-000d3a38a36f               4.1429    8.8571     6.0000           431.3283             1.3638             2.7275           441.3982     1263.1912",
      "text/html": "<div>\n<style scoped>\n    .dataframe tbody tr th:only-of-type {\n        vertical-align: middle;\n    }\n\n    .dataframe tbody tr th {\n        vertical-align: top;\n    }\n\n    .dataframe thead th {\n        text-align: right;\n    }\n</style>\n<table border=\"1\" class=\"dataframe\">\n  <thead>\n    <tr style=\"text-align: right;\">\n      <th></th>\n      <th>customer_id</th>\n      <th>recency_cltv_weekly</th>\n      <th>T_weekly</th>\n      <th>frequency</th>\n      <th>monetary_cltv_avg</th>\n      <th>exp_sales_3_month</th>\n      <th>exp_sales_6_month</th>\n      <th>exp_average_value</th>\n      <th>cltv_6_month</th>\n    </tr>\n  </thead>\n  <tbody>\n    <tr>\n      <th>9055</th>\n      <td>47a642fe-975b-11eb-8c2a-000d3a38a36f</td>\n      <td>2.8571</td>\n      <td>7.8571</td>\n      <td>4.0000</td>\n      <td>1401.8000</td>\n      <td>1.0944</td>\n      <td>2.1888</td>\n      <td>1449.0605</td>\n      <td>3327.7770</td>\n    </tr>\n    <tr>\n      <th>13880</th>\n      <td>7137a5c0-7aad-11ea-8f20-000d3a38a36f</td>\n      <td>6.1429</td>\n      <td>13.1429</td>\n      <td>11.0000</td>\n      <td>758.0855</td>\n      <td>1.9701</td>\n      <td>3.9402</td>\n      <td>767.3606</td>\n      <td>3172.3944</td>\n    </tr>\n    <tr>\n      <th>17323</th>\n      <td>f59053e2-a503-11e9-a2fc-000d3a38a36f</td>\n      <td>51.7143</td>\n      <td>101.0000</td>\n      <td>7.0000</td>\n      <td>1106.4671</td>\n      <td>0.7222</td>\n      <td>1.4445</td>\n      <td>1127.6115</td>\n      <td>1708.9821</td>\n    </tr>\n    <tr>\n      <th>12438</th>\n      <td>625f40a2-5bd2-11ea-98b0-000d3a38a36f</td>\n      <td>74.2857</td>\n      <td>74.5714</td>\n      <td>16.0000</td>\n      <td>501.8737</td>\n      <td>1.5653</td>\n      <td>3.1306</td>\n      <td>506.1667</td>\n      <td>1662.6135</td>\n    </tr>\n    <tr>\n      <th>7330</th>\n      <td>a4d534a2-5b1b-11eb-8dbd-000d3a38a36f</td>\n      <td>62.7143</td>\n      <td>67.2857</td>\n      <td>52.0000</td>\n      <td>166.2246</td>\n      <td>4.6561</td>\n      <td>9.3123</td>\n      <td>166.7123</td>\n      <td>1628.8874</td>\n    </tr>\n    <tr>\n      <th>8868</th>\n      <td>9ce6e520-89b0-11ea-a6e7-000d3a38a36f</td>\n      <td>3.4286</td>\n      <td>34.4286</td>\n      <td>8.0000</td>\n      <td>601.2262</td>\n      <td>1.2655</td>\n      <td>2.5309</td>\n      <td>611.4926</td>\n      <td>1623.8127</td>\n    </tr>\n    <tr>\n      <th>6402</th>\n      <td>851de3b4-8f0c-11eb-8cb8-000d3a38a36f</td>\n      <td>8.2857</td>\n      <td>9.4286</td>\n      <td>2.0000</td>\n      <td>862.6900</td>\n      <td>0.7939</td>\n      <td>1.5878</td>\n      <td>923.6800</td>\n      <td>1538.8559</td>\n    </tr>\n    <tr>\n      <th>6666</th>\n      <td>53fe00d4-7b7a-11eb-960b-000d3a38a36f</td>\n      <td>9.7143</td>\n      <td>13.0000</td>\n      <td>17.0000</td>\n      <td>259.8653</td>\n      <td>2.7807</td>\n      <td>5.5614</td>\n      <td>262.0729</td>\n      <td>1529.2280</td>\n    </tr>\n    <tr>\n      <th>19538</th>\n      <td>55d54d9e-8ac7-11ea-8ec0-000d3a38a36f</td>\n      <td>52.5714</td>\n      <td>58.7143</td>\n      <td>31.0000</td>\n      <td>228.5300</td>\n      <td>3.0838</td>\n      <td>6.1676</td>\n      <td>229.6069</td>\n      <td>1485.8192</td>\n    </tr>\n    <tr>\n      <th>14858</th>\n      <td>031b2954-6d28-11eb-99c4-000d3a38a36f</td>\n      <td>14.8571</td>\n      <td>15.5714</td>\n      <td>3.0000</td>\n      <td>743.5867</td>\n      <td>0.8716</td>\n      <td>1.7431</td>\n      <td>778.0504</td>\n      <td>1422.9997</td>\n    </tr>\n    <tr>\n      <th>17963</th>\n      <td>8fd88976-6708-11ea-9d38-000d3a38a36f</td>\n      <td>50.2857</td>\n      <td>63.2857</td>\n      <td>7.0000</td>\n      <td>694.1986</td>\n      <td>0.9176</td>\n      <td>1.8351</td>\n      <td>707.6856</td>\n      <td>1362.6072</td>\n    </tr>\n    <tr>\n      <th>15516</th>\n      <td>9083981a-f59e-11e9-841e-000d3a38a36f</td>\n      <td>63.5714</td>\n      <td>83.8571</td>\n      <td>4.0000</td>\n      <td>1090.3600</td>\n      <td>0.5746</td>\n      <td>1.1493</td>\n      <td>1127.3545</td>\n      <td>1359.4397</td>\n    </tr>\n    <tr>\n      <th>6717</th>\n      <td>40b4f318-9dfb-11eb-9c47-000d3a38a36f</td>\n      <td>27.1429</td>\n      <td>33.8571</td>\n      <td>7.0000</td>\n      <td>544.7000</td>\n      <td>1.1630</td>\n      <td>2.3259</td>\n      <td>555.4103</td>\n      <td>1355.4352</td>\n    </tr>\n    <tr>\n      <th>4157</th>\n      <td>7eed6468-4540-11ea-acaf-000d3a38a36f</td>\n      <td>89.1429</td>\n      <td>90.0000</td>\n      <td>27.0000</td>\n      <td>289.7641</td>\n      <td>2.2143</td>\n      <td>4.4287</td>\n      <td>291.2922</td>\n      <td>1353.5337</td>\n    </tr>\n    <tr>\n      <th>4735</th>\n      <td>dbabb58e-6312-11ea-a6dc-000d3a38a36f</td>\n      <td>61.2857</td>\n      <td>64.2857</td>\n      <td>13.0000</td>\n      <td>442.1154</td>\n      <td>1.4236</td>\n      <td>2.8473</td>\n      <td>446.8162</td>\n      <td>1334.8251</td>\n    </tr>\n    <tr>\n      <th>11694</th>\n      <td>90f1b7f2-bbad-11ea-a0c9-000d3a38a36f</td>\n      <td>47.2857</td>\n      <td>48.0000</td>\n      <td>6.0000</td>\n      <td>647.3450</td>\n      <td>0.9339</td>\n      <td>1.8677</td>\n      <td>662.1103</td>\n      <td>1297.5186</td>\n    </tr>\n    <tr>\n      <th>11179</th>\n      <td>d2e74a36-3228-11eb-860c-000d3a38a36f</td>\n      <td>1.1429</td>\n      <td>26.2857</td>\n      <td>3.0000</td>\n      <td>750.5700</td>\n      <td>0.7804</td>\n      <td>1.5608</td>\n      <td>785.3440</td>\n      <td>1286.1378</td>\n    </tr>\n    <tr>\n      <th>1853</th>\n      <td>f02473b0-43c3-11eb-806e-000d3a38a36f</td>\n      <td>17.2857</td>\n      <td>23.1429</td>\n      <td>2.0000</td>\n      <td>835.8750</td>\n      <td>0.6843</td>\n      <td>1.3686</td>\n      <td>895.0369</td>\n      <td>1285.2277</td>\n    </tr>\n    <tr>\n      <th>5775</th>\n      <td>e31293ac-d63a-11e9-93bc-000d3a38a36f</td>\n      <td>91.7143</td>\n      <td>93.1429</td>\n      <td>8.0000</td>\n      <td>727.0862</td>\n      <td>0.8266</td>\n      <td>1.6533</td>\n      <td>739.3933</td>\n      <td>1282.5758</td>\n    </tr>\n    <tr>\n      <th>7312</th>\n      <td>90befc98-925a-11eb-b584-000d3a38a36f</td>\n      <td>4.1429</td>\n      <td>8.8571</td>\n      <td>6.0000</td>\n      <td>431.3283</td>\n      <td>1.3638</td>\n      <td>2.7275</td>\n      <td>441.3982</td>\n      <td>1263.1912</td>\n    </tr>\n  </tbody>\n</table>\n</div>"
     },
     "execution_count": 929,
     "metadata": {},
     "output_type": "execute_result"
    }
   ],
   "source": [
    "cltv_df.sort_values('cltv_6_month', ascending=False)[:20]"
   ],
   "metadata": {
    "collapsed": false
   }
  },
  {
   "cell_type": "code",
   "execution_count": 930,
   "outputs": [],
   "source": [
    "cltv_df['cltv_segment'] = pd.qcut(cltv_df['cltv_6_month'], 4, labels=['D', 'C', 'B', 'A'])"
   ],
   "metadata": {
    "collapsed": false
   }
  },
  {
   "cell_type": "code",
   "execution_count": 931,
   "outputs": [
    {
     "data": {
      "text/plain": "                            customer_id  recency_cltv_weekly  T_weekly  frequency  monetary_cltv_avg  exp_sales_3_month  exp_sales_6_month  exp_average_value  cltv_6_month cltv_segment\n0  cc294636-19f0-11eb-8d74-000d3a38a36f              17.0000   30.5714     5.0000           187.8740             0.9739             1.9479           193.6327      395.7332            A\n1  f431bd5a-ab7b-11e9-a2fc-000d3a38a36f             209.8571  224.8571    21.0000            95.8833             0.9832             1.9663            96.6650      199.4307            B\n2  69b69676-1a40-11ea-941b-000d3a38a36f              52.2857   78.8571     5.0000           117.0640             0.6706             1.3412           120.9676      170.2242            B\n3  1854e56c-491f-11eb-806e-000d3a38a36f               1.5714   20.8571     2.0000            60.9850             0.7004             1.4008            67.3201       98.9455            D\n4  d6ea1074-f1f5-11e9-9346-000d3a38a36f              83.1429   95.4286     2.0000           104.9900             0.3960             0.7921           114.3251       95.0117            D",
      "text/html": "<div>\n<style scoped>\n    .dataframe tbody tr th:only-of-type {\n        vertical-align: middle;\n    }\n\n    .dataframe tbody tr th {\n        vertical-align: top;\n    }\n\n    .dataframe thead th {\n        text-align: right;\n    }\n</style>\n<table border=\"1\" class=\"dataframe\">\n  <thead>\n    <tr style=\"text-align: right;\">\n      <th></th>\n      <th>customer_id</th>\n      <th>recency_cltv_weekly</th>\n      <th>T_weekly</th>\n      <th>frequency</th>\n      <th>monetary_cltv_avg</th>\n      <th>exp_sales_3_month</th>\n      <th>exp_sales_6_month</th>\n      <th>exp_average_value</th>\n      <th>cltv_6_month</th>\n      <th>cltv_segment</th>\n    </tr>\n  </thead>\n  <tbody>\n    <tr>\n      <th>0</th>\n      <td>cc294636-19f0-11eb-8d74-000d3a38a36f</td>\n      <td>17.0000</td>\n      <td>30.5714</td>\n      <td>5.0000</td>\n      <td>187.8740</td>\n      <td>0.9739</td>\n      <td>1.9479</td>\n      <td>193.6327</td>\n      <td>395.7332</td>\n      <td>A</td>\n    </tr>\n    <tr>\n      <th>1</th>\n      <td>f431bd5a-ab7b-11e9-a2fc-000d3a38a36f</td>\n      <td>209.8571</td>\n      <td>224.8571</td>\n      <td>21.0000</td>\n      <td>95.8833</td>\n      <td>0.9832</td>\n      <td>1.9663</td>\n      <td>96.6650</td>\n      <td>199.4307</td>\n      <td>B</td>\n    </tr>\n    <tr>\n      <th>2</th>\n      <td>69b69676-1a40-11ea-941b-000d3a38a36f</td>\n      <td>52.2857</td>\n      <td>78.8571</td>\n      <td>5.0000</td>\n      <td>117.0640</td>\n      <td>0.6706</td>\n      <td>1.3412</td>\n      <td>120.9676</td>\n      <td>170.2242</td>\n      <td>B</td>\n    </tr>\n    <tr>\n      <th>3</th>\n      <td>1854e56c-491f-11eb-806e-000d3a38a36f</td>\n      <td>1.5714</td>\n      <td>20.8571</td>\n      <td>2.0000</td>\n      <td>60.9850</td>\n      <td>0.7004</td>\n      <td>1.4008</td>\n      <td>67.3201</td>\n      <td>98.9455</td>\n      <td>D</td>\n    </tr>\n    <tr>\n      <th>4</th>\n      <td>d6ea1074-f1f5-11e9-9346-000d3a38a36f</td>\n      <td>83.1429</td>\n      <td>95.4286</td>\n      <td>2.0000</td>\n      <td>104.9900</td>\n      <td>0.3960</td>\n      <td>0.7921</td>\n      <td>114.3251</td>\n      <td>95.0117</td>\n      <td>D</td>\n    </tr>\n  </tbody>\n</table>\n</div>"
     },
     "execution_count": 931,
     "metadata": {},
     "output_type": "execute_result"
    }
   ],
   "source": [
    "cltv_df.head()"
   ],
   "metadata": {
    "collapsed": false
   }
  },
  {
   "cell_type": "code",
   "execution_count": 932,
   "outputs": [
    {
     "data": {
      "text/plain": "cltv_segment                      D         C         B         A\nrecency_cltv_weekly max    432.5714  433.0000  415.5714  433.4286\n                    mean   139.0002   92.6295   81.9884   67.4271\n                    count 4987.0000 4986.0000 4986.0000 4986.0000\nT_weekly            max    436.2857  434.7143  423.5714  437.1429\n                    mean   162.1832  112.8183  100.3265   82.5497\n                    count 4987.0000 4986.0000 4986.0000 4986.0000\nfrequency           max     18.0000   32.0000   50.0000   57.0000\n                    mean     3.7688    4.4047    5.0927    6.6466\n                    count 4987.0000 4986.0000 4986.0000 4986.0000\nmonetary_cltv_avg   max    284.9850  342.8400  539.9850 1401.8000\n                    mean    93.1516  125.7885  160.6366  228.8311\n                    count 4987.0000 4986.0000 4986.0000 4986.0000\nexp_sales_3_month   max      1.0498    1.5684    1.7822    4.6561\n                    mean     0.4089    0.5254    0.6011    0.7730\n                    count 4987.0000 4986.0000 4986.0000 4986.0000\nexp_sales_6_month   max      2.0995    3.1369    3.5643    9.3123\n                    mean     0.8178    1.0509    1.2022    1.5461\n                    count 4987.0000 4986.0000 4986.0000 4986.0000\nexp_average_value   max    306.5909  368.3901  578.9751 1449.0605\n                    mean    98.6911  132.2506  168.0006  238.0240\n                    count 4987.0000 4986.0000 4986.0000 4986.0000\ncltv_6_month        max    112.2454  165.4689  240.0579 3327.7770\n                    mean    80.3405  138.3115  199.5328  362.3155\n                    count 4987.0000 4986.0000 4986.0000 4986.0000",
      "text/html": "<div>\n<style scoped>\n    .dataframe tbody tr th:only-of-type {\n        vertical-align: middle;\n    }\n\n    .dataframe tbody tr th {\n        vertical-align: top;\n    }\n\n    .dataframe thead th {\n        text-align: right;\n    }\n</style>\n<table border=\"1\" class=\"dataframe\">\n  <thead>\n    <tr style=\"text-align: right;\">\n      <th></th>\n      <th>cltv_segment</th>\n      <th>D</th>\n      <th>C</th>\n      <th>B</th>\n      <th>A</th>\n    </tr>\n  </thead>\n  <tbody>\n    <tr>\n      <th rowspan=\"3\" valign=\"top\">recency_cltv_weekly</th>\n      <th>max</th>\n      <td>432.5714</td>\n      <td>433.0000</td>\n      <td>415.5714</td>\n      <td>433.4286</td>\n    </tr>\n    <tr>\n      <th>mean</th>\n      <td>139.0002</td>\n      <td>92.6295</td>\n      <td>81.9884</td>\n      <td>67.4271</td>\n    </tr>\n    <tr>\n      <th>count</th>\n      <td>4987.0000</td>\n      <td>4986.0000</td>\n      <td>4986.0000</td>\n      <td>4986.0000</td>\n    </tr>\n    <tr>\n      <th rowspan=\"3\" valign=\"top\">T_weekly</th>\n      <th>max</th>\n      <td>436.2857</td>\n      <td>434.7143</td>\n      <td>423.5714</td>\n      <td>437.1429</td>\n    </tr>\n    <tr>\n      <th>mean</th>\n      <td>162.1832</td>\n      <td>112.8183</td>\n      <td>100.3265</td>\n      <td>82.5497</td>\n    </tr>\n    <tr>\n      <th>count</th>\n      <td>4987.0000</td>\n      <td>4986.0000</td>\n      <td>4986.0000</td>\n      <td>4986.0000</td>\n    </tr>\n    <tr>\n      <th rowspan=\"3\" valign=\"top\">frequency</th>\n      <th>max</th>\n      <td>18.0000</td>\n      <td>32.0000</td>\n      <td>50.0000</td>\n      <td>57.0000</td>\n    </tr>\n    <tr>\n      <th>mean</th>\n      <td>3.7688</td>\n      <td>4.4047</td>\n      <td>5.0927</td>\n      <td>6.6466</td>\n    </tr>\n    <tr>\n      <th>count</th>\n      <td>4987.0000</td>\n      <td>4986.0000</td>\n      <td>4986.0000</td>\n      <td>4986.0000</td>\n    </tr>\n    <tr>\n      <th rowspan=\"3\" valign=\"top\">monetary_cltv_avg</th>\n      <th>max</th>\n      <td>284.9850</td>\n      <td>342.8400</td>\n      <td>539.9850</td>\n      <td>1401.8000</td>\n    </tr>\n    <tr>\n      <th>mean</th>\n      <td>93.1516</td>\n      <td>125.7885</td>\n      <td>160.6366</td>\n      <td>228.8311</td>\n    </tr>\n    <tr>\n      <th>count</th>\n      <td>4987.0000</td>\n      <td>4986.0000</td>\n      <td>4986.0000</td>\n      <td>4986.0000</td>\n    </tr>\n    <tr>\n      <th rowspan=\"3\" valign=\"top\">exp_sales_3_month</th>\n      <th>max</th>\n      <td>1.0498</td>\n      <td>1.5684</td>\n      <td>1.7822</td>\n      <td>4.6561</td>\n    </tr>\n    <tr>\n      <th>mean</th>\n      <td>0.4089</td>\n      <td>0.5254</td>\n      <td>0.6011</td>\n      <td>0.7730</td>\n    </tr>\n    <tr>\n      <th>count</th>\n      <td>4987.0000</td>\n      <td>4986.0000</td>\n      <td>4986.0000</td>\n      <td>4986.0000</td>\n    </tr>\n    <tr>\n      <th rowspan=\"3\" valign=\"top\">exp_sales_6_month</th>\n      <th>max</th>\n      <td>2.0995</td>\n      <td>3.1369</td>\n      <td>3.5643</td>\n      <td>9.3123</td>\n    </tr>\n    <tr>\n      <th>mean</th>\n      <td>0.8178</td>\n      <td>1.0509</td>\n      <td>1.2022</td>\n      <td>1.5461</td>\n    </tr>\n    <tr>\n      <th>count</th>\n      <td>4987.0000</td>\n      <td>4986.0000</td>\n      <td>4986.0000</td>\n      <td>4986.0000</td>\n    </tr>\n    <tr>\n      <th rowspan=\"3\" valign=\"top\">exp_average_value</th>\n      <th>max</th>\n      <td>306.5909</td>\n      <td>368.3901</td>\n      <td>578.9751</td>\n      <td>1449.0605</td>\n    </tr>\n    <tr>\n      <th>mean</th>\n      <td>98.6911</td>\n      <td>132.2506</td>\n      <td>168.0006</td>\n      <td>238.0240</td>\n    </tr>\n    <tr>\n      <th>count</th>\n      <td>4987.0000</td>\n      <td>4986.0000</td>\n      <td>4986.0000</td>\n      <td>4986.0000</td>\n    </tr>\n    <tr>\n      <th rowspan=\"3\" valign=\"top\">cltv_6_month</th>\n      <th>max</th>\n      <td>112.2454</td>\n      <td>165.4689</td>\n      <td>240.0579</td>\n      <td>3327.7770</td>\n    </tr>\n    <tr>\n      <th>mean</th>\n      <td>80.3405</td>\n      <td>138.3115</td>\n      <td>199.5328</td>\n      <td>362.3155</td>\n    </tr>\n    <tr>\n      <th>count</th>\n      <td>4987.0000</td>\n      <td>4986.0000</td>\n      <td>4986.0000</td>\n      <td>4986.0000</td>\n    </tr>\n  </tbody>\n</table>\n</div>"
     },
     "execution_count": 932,
     "metadata": {},
     "output_type": "execute_result"
    }
   ],
   "source": [
    "cltv_df.groupby('cltv_segment').agg(['max', 'mean', 'count']).T"
   ],
   "metadata": {
    "collapsed": false
   }
  },
  {
   "cell_type": "code",
   "execution_count": 933,
   "outputs": [
    {
     "data": {
      "text/plain": "Text(0, 0.5, 'profit')"
     },
     "execution_count": 933,
     "metadata": {},
     "output_type": "execute_result"
    },
    {
     "data": {
      "text/plain": "<Figure size 640x480 with 1 Axes>",
      "image/png": "[encoded data removed]"
     },
     "metadata": {},
     "output_type": "display_data"
    }
   ],
   "source": [
    "from matplotlib import pyplot as plt\n",
    "\n",
    "cltv_df.groupby('cltv_segment').agg('exp_average_value').mean().plot(kind='bar', color=colors)\n",
    "\n",
    "plt.ylabel('profit')"
   ],
   "metadata": {
    "collapsed": false
   }
  },
  {
   "cell_type": "code",
   "execution_count": 934,
   "outputs": [
    {
     "data": {
      "text/plain": "Text(0, 0.5, 'expected purchase')"
     },
     "execution_count": 934,
     "metadata": {},
     "output_type": "execute_result"
    },
    {
     "data": {
      "text/plain": "<Figure size 640x480 with 1 Axes>",
      "image/png": "[encoded data removed]"
     },
     "metadata": {},
     "output_type": "display_data"
    }
   ],
   "source": [
    "cltv_df.groupby('cltv_segment').agg('exp_sales_6_month').mean().plot(kind='bar', color=colors)\n",
    "\n",
    "plt.ylabel('expected purchase')"
   ],
   "metadata": {
    "collapsed": false
   }
  },
  {
   "cell_type": "code",
   "execution_count": 935,
   "outputs": [
    {
     "data": {
      "text/plain": "Text(0, 0.5, 'cltv')"
     },
     "execution_count": 935,
     "metadata": {},
     "output_type": "execute_result"
    },
    {
     "data": {
      "text/plain": "<Figure size 640x480 with 1 Axes>",
      "image/png": "[encoded data removed]"
     },
     "metadata": {},
     "output_type": "display_data"
    }
   ],
   "source": [
    "cltv_df.groupby('cltv_segment').agg('cltv_6_month').mean().plot(kind='bar', color=colors)\n",
    "\n",
    "plt.ylabel('cltv')"
   ],
   "metadata": {
    "collapsed": false
   }
  },
  {
   "cell_type": "code",
   "execution_count": 936,
   "outputs": [
    {
     "data": {
      "text/plain": "<AxesSubplot:xlabel='cltv_segment', ylabel='count'>"
     },
     "execution_count": 936,
     "metadata": {},
     "output_type": "execute_result"
    },
    {
     "data": {
      "text/plain": "<Figure size 640x480 with 1 Axes>",
      "image/png": "[encoded data removed]"
     },
     "metadata": {},
     "output_type": "display_data"
    }
   ],
   "source": [
    "sns.countplot(x=cltv_df['cltv_segment'], palette=colors)"
   ],
   "metadata": {
    "collapsed": false
   }
  }
 ],
 "metadata": {
  "kernelspec": {
   "display_name": "Python 3",
   "language": "python",
   "name": "python3"
  },
  "language_info": {
   "codemirror_mode": {
    "name": "ipython",
    "version": 2
   },
   "file_extension": ".py",
   "mimetype": "text/x-python",
   "name": "python",
   "nbconvert_exporter": "python",
   "pygments_lexer": "ipython2",
   "version": "2.7.6"
  }
 },
 "nbformat": 4,
 "nbformat_minor": 0
}
